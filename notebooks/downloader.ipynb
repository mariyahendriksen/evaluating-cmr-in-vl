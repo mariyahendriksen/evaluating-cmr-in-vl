{
 "cells": [
  {
   "cell_type": "code",
   "execution_count": 1,
   "id": "b60b46ef-1b11-4d3a-ab1d-c023c30e7c4c",
   "metadata": {
    "execution": {
     "iopub.execute_input": "2023-09-27T14:52:37.103419Z",
     "iopub.status.busy": "2023-09-27T14:52:37.103097Z",
     "iopub.status.idle": "2023-09-27T14:52:42.212079Z",
     "shell.execute_reply": "2023-09-27T14:52:42.210778Z",
     "shell.execute_reply.started": "2023-09-27T14:52:37.103385Z"
    },
    "tags": []
   },
   "outputs": [
    {
     "name": "stdout",
     "output_type": "stream",
     "text": [
      "Defaulting to user installation because normal site-packages is not writeable\n",
      "Looking in indexes: https://artifactory.inf.bloomberg.com/artifactory/api/pypi/bloomberg-pypi/simple, https://artifactory.inf.bloomberg.com/artifactory/api/pypi/python-dsp-wheels/simple\n",
      "Collecting boto3\n",
      "  Using cached https://artifactory.inf.bloomberg.com/artifactory/api/pypi/bloomberg-pypi/packages/packages/7e/47/7613bc648576e5be0da6c7feb2a5cfba1f6b36e7b163adbdc5ce4ebd8f16/boto3-1.28.52-py3-none-any.whl (135 kB)\n",
      "Collecting botocore<1.32.0,>=1.31.52\n",
      "  Using cached https://artifactory.inf.bloomberg.com/artifactory/api/pypi/bloomberg-pypi/packages/packages/fa/a4/96371c65dfed960a86ed2f90e6b5ae023167c66c249969c86d05ca0aa2d7/botocore-1.31.52-py3-none-any.whl (11.2 MB)\n",
      "Collecting s3transfer<0.7.0,>=0.6.0\n",
      "  Downloading https://artifactory.inf.bloomberg.com/artifactory/api/pypi/bloomberg-pypi/packages/packages/d9/17/a3b666f5ef9543cfd3c661d39d1e193abb9649d0cfbbfee3cf3b51d5af02/s3transfer-0.6.2-py3-none-any.whl (79 kB)\n",
      "\u001b[2K     \u001b[90m━━━━━━━━━━━━━━━━━━━━━━━━━━━━━━━━━━━━━━━━\u001b[0m \u001b[32m79.8/79.8 kB\u001b[0m \u001b[31m13.4 MB/s\u001b[0m eta \u001b[36m0:00:00\u001b[0m\n",
      "\u001b[?25hCollecting jmespath<2.0.0,>=0.7.1\n",
      "  Downloading https://artifactory.inf.bloomberg.com/artifactory/api/pypi/bloomberg-pypi/packages/packages/31/b4/b9b800c45527aadd64d5b442f9b932b00648617eb5d63d2c7a6587b7cafc/jmespath-1.0.1-py3-none-any.whl (20 kB)\n",
      "Collecting urllib3<1.27,>=1.25.4\n",
      "  Downloading https://artifactory.inf.bloomberg.com/artifactory/api/pypi/bloomberg-pypi/packages/packages/c5/05/c214b32d21c0b465506f95c4f28ccbcba15022e000b043b72b3df7728471/urllib3-1.26.16-py2.py3-none-any.whl (143 kB)\n",
      "\u001b[2K     \u001b[90m━━━━━━━━━━━━━━━━━━━━━━━━━━━━━━━━━━━━━━\u001b[0m \u001b[32m143.1/143.1 kB\u001b[0m \u001b[31m11.7 MB/s\u001b[0m eta \u001b[36m0:00:00\u001b[0m\n",
      "\u001b[?25hRequirement already satisfied: python-dateutil<3.0.0,>=2.1 in /layers/com.bloomberg.ds.buildpacks.pip/requirements/lib/python3.10/site-packages (from botocore<1.32.0,>=1.31.52->boto3) (2.8.2)\n",
      "Requirement already satisfied: six>=1.5 in /layers/com.bloomberg.ds.buildpacks.pip/requirements/lib/python3.10/site-packages (from python-dateutil<3.0.0,>=2.1->botocore<1.32.0,>=1.31.52->boto3) (1.16.0)\n",
      "Installing collected packages: urllib3, jmespath, botocore, s3transfer, boto3\n",
      "Successfully installed boto3-1.28.52 botocore-1.31.52 jmespath-1.0.1 s3transfer-0.6.2 urllib3-1.26.16\n"
     ]
    }
   ],
   "source": [
    "!pip install boto3"
   ]
  },
  {
   "cell_type": "code",
   "execution_count": 2,
   "id": "d0f91f30-76fb-42b9-9763-61803d6d2a07",
   "metadata": {
    "execution": {
     "iopub.execute_input": "2023-09-27T14:52:44.880494Z",
     "iopub.status.busy": "2023-09-27T14:52:44.879703Z",
     "iopub.status.idle": "2023-09-27T14:52:45.141731Z",
     "shell.execute_reply": "2023-09-27T14:52:45.140796Z",
     "shell.execute_reply.started": "2023-09-27T14:52:44.880432Z"
    },
    "tags": []
   },
   "outputs": [],
   "source": [
    "import boto3\n",
    "\n",
    "resource = boto3.resource(\n",
    "      's3',\n",
    "      aws_access_key_id = 'J8I524PGEG4KVPV14HM7',\n",
    "      aws_secret_access_key = 'jhfJZBCQR6GHUq4VlImx8gOeAW3BA5wnSL08lqBJ',\n",
    "      endpoint_url = 'http://s3.dev.obdc.bcs.bloomberg.com', # e.g. https://s3.dev.bcs.bloomberg.com\n",
    "      )\n",
    "\n",
    "bucket = resource.Bucket(\"mariya\")"
   ]
  },
  {
   "cell_type": "code",
   "execution_count": 3,
   "id": "fcfcf11b-1e51-4c6d-8ac4-2dc2789e61d7",
   "metadata": {
    "execution": {
     "iopub.execute_input": "2023-09-27T14:52:51.441588Z",
     "iopub.status.busy": "2023-09-27T14:52:51.440946Z",
     "iopub.status.idle": "2023-09-27T14:52:51.504350Z",
     "shell.execute_reply": "2023-09-27T14:52:51.503116Z",
     "shell.execute_reply.started": "2023-09-27T14:52:51.441534Z"
    },
    "tags": []
   },
   "outputs": [
    {
     "data": {
      "text/plain": [
       "['coco-annotations-embeds.zip']"
      ]
     },
     "execution_count": 3,
     "metadata": {},
     "output_type": "execute_result"
    }
   ],
   "source": [
    "prefix = \"coco-annotations-embeds.zip\"\n",
    "\n",
    "[r.key for r in bucket.objects.filter(Prefix=prefix)]"
   ]
  },
  {
   "cell_type": "code",
   "execution_count": 4,
   "id": "2993e8b7-ae8e-4c51-9afa-d7fb650e3a1b",
   "metadata": {
    "execution": {
     "iopub.execute_input": "2023-09-27T14:52:53.020553Z",
     "iopub.status.busy": "2023-09-27T14:52:53.020057Z",
     "iopub.status.idle": "2023-09-27T14:52:56.706391Z",
     "shell.execute_reply": "2023-09-27T14:52:56.705005Z",
     "shell.execute_reply.started": "2023-09-27T14:52:53.020514Z"
    },
    "tags": []
   },
   "outputs": [],
   "source": [
    "dsp_file = 'coco-annotations-embeds.zip'\n",
    "local_file = dsp_file\n",
    "\n",
    "bucket.download_file(dsp_file, local_file)"
   ]
  },
  {
   "cell_type": "code",
   "execution_count": 5,
   "id": "5d719226-d63f-465b-af70-49ca2dfc6d44",
   "metadata": {
    "execution": {
     "iopub.execute_input": "2023-09-27T14:52:56.709518Z",
     "iopub.status.busy": "2023-09-27T14:52:56.708832Z",
     "iopub.status.idle": "2023-09-27T14:52:59.292985Z",
     "shell.execute_reply": "2023-09-27T14:52:59.291617Z",
     "shell.execute_reply.started": "2023-09-27T14:52:56.709465Z"
    },
    "tags": []
   },
   "outputs": [],
   "source": [
    "import zipfile\n",
    "\n",
    "path_to_zip_file = 'coco-annotations-embeds.zip'\n",
    "directory_to_extract_to = '.'\n",
    "\n",
    "with zipfile.ZipFile(path_to_zip_file, 'r') as zip_ref:\n",
    "    zip_ref.extractall(directory_to_extract_to)"
   ]
  },
  {
   "cell_type": "code",
   "execution_count": 6,
   "id": "69ace11b-ea9c-4273-becd-94bc4dfb5b6c",
   "metadata": {
    "execution": {
     "iopub.execute_input": "2023-09-27T14:53:01.183813Z",
     "iopub.status.busy": "2023-09-27T14:53:01.182877Z",
     "iopub.status.idle": "2023-09-27T14:54:05.055211Z",
     "shell.execute_reply": "2023-09-27T14:54:05.053425Z",
     "shell.execute_reply.started": "2023-09-27T14:53:01.183739Z"
    },
    "tags": []
   },
   "outputs": [],
   "source": [
    "dsp_file = 'coco/val2014.zip'\n",
    "local_file = 'val2014.zip'\n",
    "\n",
    "bucket.download_file(dsp_file, local_file)"
   ]
  },
  {
   "cell_type": "code",
   "execution_count": 11,
   "id": "457a3822-9020-49be-a56d-d4a5d56a92f9",
   "metadata": {
    "execution": {
     "iopub.execute_input": "2023-09-27T14:56:32.846456Z",
     "iopub.status.busy": "2023-09-27T14:56:32.845902Z",
     "iopub.status.idle": "2023-09-27T14:56:35.299959Z",
     "shell.execute_reply": "2023-09-27T14:56:35.298258Z",
     "shell.execute_reply.started": "2023-09-27T14:56:32.846414Z"
    },
    "tags": []
   },
   "outputs": [],
   "source": [
    "# f30k align file\n",
    "file = 'f30k-img-embeddings.pkl'\n",
    "\n",
    "bucket.download_file(file, 'f30k-img-embeddings.pkl')"
   ]
  },
  {
   "cell_type": "code",
   "execution_count": 8,
   "id": "c60f7b2f-da71-44df-8e0a-b782187c0d04",
   "metadata": {
    "execution": {
     "iopub.execute_input": "2023-09-27T14:54:08.026239Z",
     "iopub.status.busy": "2023-09-27T14:54:08.025597Z",
     "iopub.status.idle": "2023-09-27T14:54:30.959644Z",
     "shell.execute_reply": "2023-09-27T14:54:30.958475Z",
     "shell.execute_reply.started": "2023-09-27T14:54:08.026184Z"
    },
    "tags": []
   },
   "outputs": [],
   "source": [
    "import zipfile\n",
    "\n",
    "path_to_zip_file = 'val2014.zip'\n",
    "directory_to_extract_to = '.'\n",
    "\n",
    "with zipfile.ZipFile(path_to_zip_file, 'r') as zip_ref:\n",
    "    zip_ref.extractall(directory_to_extract_to)"
   ]
  },
  {
   "cell_type": "code",
   "execution_count": 8,
   "id": "d455dcdb-a523-4baf-b7da-222b2f91d559",
   "metadata": {
    "execution": {
     "iopub.execute_input": "2023-09-16T11:53:03.144707Z",
     "iopub.status.busy": "2023-09-16T11:53:03.144104Z",
     "iopub.status.idle": "2023-09-16T11:53:09.451477Z",
     "shell.execute_reply": "2023-09-16T11:53:09.450492Z",
     "shell.execute_reply.started": "2023-09-16T11:53:03.144654Z"
    },
    "tags": []
   },
   "outputs": [
    {
     "data": {
      "text/plain": [
       "['f30k.zip',\n",
       " 'f30k/dataset_flickr30k.json',\n",
       " 'f30k/flickr30k-images/1000092795.jpg',\n",
       " 'f30k/flickr30k-images/10002456.jpg',\n",
       " 'f30k/flickr30k-images/1000268201.jpg']"
      ]
     },
     "execution_count": 8,
     "metadata": {},
     "output_type": "execute_result"
    }
   ],
   "source": [
    "import boto3\n",
    "\n",
    "prefix = \"f30k\"\n",
    "\n",
    "resource = boto3.resource(\n",
    "      's3',\n",
    "      aws_access_key_id = 'J8I524PGEG4KVPV14HM7',\n",
    "      aws_secret_access_key = 'jhfJZBCQR6GHUq4VlImx8gOeAW3BA5wnSL08lqBJ',\n",
    "      endpoint_url = 'http://s3.dev.obdc.bcs.bloomberg.com', # e.g. https://s3.dev.bcs.bloomberg.com\n",
    "      )\n",
    "\n",
    "bucket = resource.Bucket(\"mariya\")\n",
    "\n",
    "[r.key for r in bucket.objects.filter(Prefix=prefix)][:5]"
   ]
  },
  {
   "cell_type": "code",
   "execution_count": 13,
   "id": "9b133084-69d8-4167-9e55-47e46988f9a6",
   "metadata": {
    "execution": {
     "iopub.execute_input": "2023-09-27T14:56:50.768077Z",
     "iopub.status.busy": "2023-09-27T14:56:50.767330Z",
     "iopub.status.idle": "2023-09-27T14:56:53.106597Z",
     "shell.execute_reply": "2023-09-27T14:56:53.104934Z",
     "shell.execute_reply.started": "2023-09-27T14:56:50.768027Z"
    },
    "tags": []
   },
   "outputs": [],
   "source": [
    "dsp_file = 'f30k-annotations-embeds.zip'\n",
    "local_file = dsp_file\n",
    "\n",
    "bucket.download_file(dsp_file, local_file)"
   ]
  },
  {
   "cell_type": "code",
   "execution_count": 14,
   "id": "16be5aa6-7233-4410-b7e4-4711b9a6955a",
   "metadata": {
    "execution": {
     "iopub.execute_input": "2023-09-27T14:56:53.109783Z",
     "iopub.status.busy": "2023-09-27T14:56:53.109206Z",
     "iopub.status.idle": "2023-09-27T14:56:54.360600Z",
     "shell.execute_reply": "2023-09-27T14:56:54.359686Z",
     "shell.execute_reply.started": "2023-09-27T14:56:53.109732Z"
    },
    "tags": []
   },
   "outputs": [],
   "source": [
    "import zipfile\n",
    "\n",
    "path_to_zip_file = 'f30k-annotations-embeds.zip'\n",
    "directory_to_extract_to = '.'\n",
    "\n",
    "with zipfile.ZipFile(path_to_zip_file, 'r') as zip_ref:\n",
    "    zip_ref.extractall(directory_to_extract_to)"
   ]
  },
  {
   "cell_type": "code",
   "execution_count": 9,
   "id": "d3fcae82-e6ca-4321-b09a-086f5e810f42",
   "metadata": {
    "execution": {
     "iopub.execute_input": "2023-09-27T14:54:30.961930Z",
     "iopub.status.busy": "2023-09-27T14:54:30.961558Z",
     "iopub.status.idle": "2023-09-27T14:55:16.481237Z",
     "shell.execute_reply": "2023-09-27T14:55:16.479545Z",
     "shell.execute_reply.started": "2023-09-27T14:54:30.961910Z"
    },
    "tags": []
   },
   "outputs": [],
   "source": [
    "bucket.download_file('f30k.zip', \"f30k.zip\")"
   ]
  },
  {
   "cell_type": "code",
   "execution_count": 10,
   "id": "2bd933ca-f8f5-489b-bea3-735bb191d629",
   "metadata": {
    "execution": {
     "iopub.execute_input": "2023-09-27T14:55:16.484021Z",
     "iopub.status.busy": "2023-09-27T14:55:16.483224Z",
     "iopub.status.idle": "2023-09-27T14:55:32.857895Z",
     "shell.execute_reply": "2023-09-27T14:55:32.856060Z",
     "shell.execute_reply.started": "2023-09-27T14:55:16.483971Z"
    },
    "tags": []
   },
   "outputs": [],
   "source": [
    "import zipfile\n",
    "\n",
    "path_to_zip_file = 'f30k.zip'\n",
    "directory_to_extract_to = '.'\n",
    "\n",
    "with zipfile.ZipFile(path_to_zip_file, 'r') as zip_ref:\n",
    "    zip_ref.extractall(directory_to_extract_to)"
   ]
  },
  {
   "cell_type": "code",
   "execution_count": 9,
   "id": "66199fc5-e717-476a-8fd9-55e1db36e2a8",
   "metadata": {
    "execution": {
     "iopub.execute_input": "2023-09-16T11:53:48.360154Z",
     "iopub.status.busy": "2023-09-16T11:53:48.359439Z",
     "iopub.status.idle": "2023-09-16T11:53:48.683873Z",
     "shell.execute_reply": "2023-09-16T11:53:48.682205Z",
     "shell.execute_reply.started": "2023-09-16T11:53:48.360094Z"
    },
    "tags": []
   },
   "outputs": [],
   "source": [
    "bucket.download_file('f30k/dataset_flickr30k.json', \"dataset_flickr30k.json\")"
   ]
  },
  {
   "cell_type": "code",
   "execution_count": null,
   "id": "67c89508-9f3d-4957-a4e6-6c941e06aa3c",
   "metadata": {
    "tags": []
   },
   "outputs": [],
   "source": [
    "import boto3\n",
    "\n",
    "prefix = \"coco/annotations/dataset_coco.json\"\n",
    "\n",
    "resource = boto3.resource(\n",
    "      's3',\n",
    "      aws_access_key_id = 'J8I524PGEG4KVPV14HM7',\n",
    "      aws_secret_access_key = 'jhfJZBCQR6GHUq4VlImx8gOeAW3BA5wnSL08lqBJ',\n",
    "      endpoint_url = 'http://s3.dev.obdc.bcs.bloomberg.com', # e.g. https://s3.dev.bcs.bloomberg.com\n",
    "      )\n",
    "\n",
    "bucket = resource.Bucket(\"mariya\")\n",
    "\n",
    "[r.key for r in bucket.objects.filter(Prefix=prefix)]"
   ]
  },
  {
   "cell_type": "code",
   "execution_count": null,
   "id": "124a40a2-ca7e-4042-bd7b-4777482be91f",
   "metadata": {
    "tags": []
   },
   "outputs": [],
   "source": [
    "bucket.download_file('coco/annotations/dataset_coco.json', \"dataset_coco.json\")"
   ]
  },
  {
   "cell_type": "code",
   "execution_count": null,
   "id": "ed35be0c-32d5-40aa-8f76-b7ca0a7de564",
   "metadata": {
    "tags": []
   },
   "outputs": [],
   "source": [
    "import boto3\n",
    "\n",
    "prefix = \"nltk_data.zip\"\n",
    "\n",
    "resource = boto3.resource(\n",
    "      's3',\n",
    "      aws_access_key_id = 'J8I524PGEG4KVPV14HM7',\n",
    "      aws_secret_access_key = 'jhfJZBCQR6GHUq4VlImx8gOeAW3BA5wnSL08lqBJ',\n",
    "      endpoint_url = 'http://s3.dev.obdc.bcs.bloomberg.com', # e.g. https://s3.dev.bcs.bloomberg.com\n",
    "      )\n",
    "\n",
    "bucket = resource.Bucket(\"mariya\")\n",
    "\n",
    "[r.key for r in bucket.objects.filter(Prefix=prefix)]"
   ]
  },
  {
   "cell_type": "code",
   "execution_count": null,
   "id": "ce300752-e908-4432-8bdb-aab62f378539",
   "metadata": {
    "tags": []
   },
   "outputs": [],
   "source": [
    "dsp_file = 'en_core_web_sm-3.0.0.tar.gz'\n",
    "local_file = dsp_file\n",
    "\n",
    "bucket.download_file(dsp_file, local_file)"
   ]
  },
  {
   "cell_type": "code",
   "execution_count": null,
   "id": "671a8017-8eb0-4a4b-82f8-3264aae5b954",
   "metadata": {},
   "outputs": [],
   "source": [
    "nltk_data.zip"
   ]
  },
  {
   "cell_type": "code",
   "execution_count": 27,
   "id": "2db4ecd6-38f9-40a1-8057-e96156fdfcbe",
   "metadata": {
    "execution": {
     "iopub.execute_input": "2023-09-20T17:09:44.742096Z",
     "iopub.status.busy": "2023-09-20T17:09:44.741439Z",
     "iopub.status.idle": "2023-09-20T17:09:45.546123Z",
     "shell.execute_reply": "2023-09-20T17:09:45.545189Z",
     "shell.execute_reply.started": "2023-09-20T17:09:44.742043Z"
    },
    "tags": []
   },
   "outputs": [],
   "source": [
    "import nltk"
   ]
  }
 ],
 "metadata": {
  "kernelspec": {
   "display_name": "Python 3 (ipykernel)",
   "language": "python",
   "name": "python3"
  },
  "language_info": {
   "codemirror_mode": {
    "name": "ipython",
    "version": 3
   },
   "file_extension": ".py",
   "mimetype": "text/x-python",
   "name": "python",
   "nbconvert_exporter": "python",
   "pygments_lexer": "ipython3",
   "version": "3.10.13"
  }
 },
 "nbformat": 4,
 "nbformat_minor": 5
}
