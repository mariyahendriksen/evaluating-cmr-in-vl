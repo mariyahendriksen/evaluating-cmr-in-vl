{
 "cells": [
  {
   "cell_type": "code",
   "execution_count": 21,
   "metadata": {},
   "outputs": [
    {
     "name": "stdout",
     "output_type": "stream",
     "text": [
      "[0.0, 0.0, 0.5, 0.43067655807339306, 0.0]\n"
     ]
    },
    {
     "data": {
      "text/plain": [
       "0.9306765580733931"
      ]
     },
     "execution_count": 21,
     "metadata": {},
     "output_type": "execute_result"
    }
   ],
   "source": [
    "import math\n",
    "\n",
    "# GAINS: list of \n",
    "gains = [0, 0, 1, 1, 0]\n",
    "\n",
    "def compute_dcg(gain: float, rank: int):\n",
    "    if gain > 0:\n",
    "        return gain / (math.log(rank + 1, 2))\n",
    "    elif gain == 0:\n",
    "        # implement similarity score\n",
    "    else:\n",
    "        raise 'Problem with the gain value ' \n",
    "\n",
    "ranks = list(range(1, len(gains)+1))\n",
    "\n",
    "assert len(gains) == len(ranks)\n",
    "\n",
    "dcgs = []\n",
    "for rank, gain in zip(ranks, gains):\n",
    "    # TODO: make it numpy\n",
    "    dcg = gain / (math.log(rank + 1, 2))\n",
    "    dcgs.append(dcg)\n",
    "\n",
    "\n",
    "print(dcgs)\n",
    "sum(dcgs)\n"
   ]
  },
  {
   "cell_type": "code",
   "execution_count": 24,
   "metadata": {},
   "outputs": [
    {
     "name": "stdout",
     "output_type": "stream",
     "text": [
      "The autoreload extension is already loaded. To reload it, use:\n",
      "  %reload_ext autoreload\n"
     ]
    }
   ],
   "source": [
    "# OPTIONAL: Load the \"autoreload\" extension so that code can change\n",
    "%load_ext autoreload\n",
    "# OPTIONAL: always reload modules so that as you change code in src, it gets loaded\n",
    "%autoreload 2\n",
    "\n",
    "import sys\n",
    "from munch import Munch\n",
    "\n",
    "PROJECT_PATH = '/Users/mhendriksen/Desktop/repositories/evaluating-cmr-in-mm/'\n",
    "CONFIG_PATH = '/Users/mhendriksen/Desktop/repositories/evaluating-cmr-in-mm/config/development_local.yaml'\n",
    "\n",
    "sys.path.append(PROJECT_PATH)\n",
    "\n",
    "with open(CONFIG_PATH, 'rb') as f:\n",
    "    config = Munch.fromYAML(f)"
   ]
  },
  {
   "cell_type": "code",
   "execution_count": 25,
   "metadata": {},
   "outputs": [
    {
     "name": "stderr",
     "output_type": "stream",
     "text": [
      "/Users/mhendriksen/Desktop/repositories/evaluating-cmr-in-mm/.venv/lib/python3.9/site-packages/tqdm/auto.py:21: TqdmWarning: IProgress not found. Please update jupyter and ipywidgets. See https://ipywidgets.readthedocs.io/en/stable/user_install.html\n",
      "  from .autonotebook import tqdm as notebook_tqdm\n"
     ]
    }
   ],
   "source": [
    "from src.models.encoders.clip import CLIP\n",
    "\n",
    "model = CLIP(config=config)"
   ]
  },
  {
   "cell_type": "code",
   "execution_count": null,
   "metadata": {},
   "outputs": [],
   "source": []
  }
 ],
 "metadata": {
  "kernelspec": {
   "display_name": ".venv",
   "language": "python",
   "name": "python3"
  },
  "language_info": {
   "codemirror_mode": {
    "name": "ipython",
    "version": 3
   },
   "file_extension": ".py",
   "mimetype": "text/x-python",
   "name": "python",
   "nbconvert_exporter": "python",
   "pygments_lexer": "ipython3",
   "version": "3.9.5"
  },
  "orig_nbformat": 4
 },
 "nbformat": 4,
 "nbformat_minor": 2
}
