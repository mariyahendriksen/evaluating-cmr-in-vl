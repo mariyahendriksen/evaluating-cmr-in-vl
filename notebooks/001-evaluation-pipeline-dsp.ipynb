{
 "cells": [
  {
   "cell_type": "code",
   "execution_count": 72,
   "id": "0b796912-45cb-4b94-8a5d-566c6631bbe3",
   "metadata": {
    "execution": {
     "iopub.execute_input": "2023-09-01T09:39:34.104662Z",
     "iopub.status.busy": "2023-09-01T09:39:34.103914Z",
     "iopub.status.idle": "2023-09-01T09:39:34.569981Z",
     "shell.execute_reply": "2023-09-01T09:39:34.569022Z",
     "shell.execute_reply.started": "2023-09-01T09:39:34.104595Z"
    },
    "tags": []
   },
   "outputs": [
    {
     "name": "stdout",
     "output_type": "stream",
     "text": [
      "The autoreload extension is already loaded. To reload it, use:\n",
      "  %reload_ext autoreload\n"
     ]
    }
   ],
   "source": [
    "%load_ext autoreload\n",
    "%autoreload 2\n",
    "\n",
    "import sys\n",
    "\n",
    "PROJECT_PATH = \"/notebooks/evaluating-cmr-in-mm/\"\n",
    "sys.path.append(PROJECT_PATH)\n",
    "import torch\n",
    "import os\n",
    "from munch import Munch\n",
    "import pandas as pd\n",
    "import argparse\n",
    "\n",
    "torch.set_num_threads(4)\n",
    "from src.data.dataset import Dataset\n",
    "from src.utils.dataset_preprocessing import load_json_annotations\n",
    "from src.models.encoders.clip import CLIP\n",
    "from src.retrieval.retriever import Retriever\n",
    "from src.metrics.recall_at_k import recall_at_k\n",
    "from src.models.relevance_estimators.clip_based import RelevanceEstimator\n",
    "from src.metrics.dcg import DCG\n",
    "from src.utils.dataset_preprocessing import save_results_dataframe\n",
    "\n",
    "os.environ[\"http_proxy\"] = \"http://devproxy.bloomberg.com:82\"\n",
    "os.environ[\"https_proxy\"] = \"http://devproxy.bloomberg.com:82\"\n"
   ]
  },
  {
   "cell_type": "code",
   "execution_count": null,
   "id": "5e8462da-1cbf-44f8-a42f-b53554da413d",
   "metadata": {},
   "outputs": [],
   "source": []
  },
  {
   "cell_type": "code",
   "execution_count": 30,
   "id": "3931f635-55e7-4f74-9d60-0f398151c4fb",
   "metadata": {
    "execution": {
     "iopub.execute_input": "2023-08-30T12:40:18.762911Z",
     "iopub.status.busy": "2023-08-30T12:40:18.762171Z",
     "iopub.status.idle": "2023-08-30T12:40:18.933159Z",
     "shell.execute_reply": "2023-08-30T12:40:18.932246Z",
     "shell.execute_reply.started": "2023-08-30T12:40:18.762859Z"
    },
    "tags": []
   },
   "outputs": [
    {
     "name": "stdout",
     "output_type": "stream",
     "text": [
      "    def compute_caption_embeddings(self, ds_split: Type[Dataset]) -> (List[int], List[str], torch.Tensor):\n",
      "        \"\"\"Compute caption embeddings for a given dataset\n",
      "\n",
      "        Args:\n",
      "            self (src.models.encoders.clip.CLIP): instance of the class\n",
      "            ds_split (Type[Dataset]): dataset split for extracting caption ids and raw captions\n",
      "\n",
      "        Returns:\n",
      "            List[int]: list of caption ids\n",
      "            List[int]: list of raw captions\n",
      "            torch.Tensor: tensor of shape (n, m) where n - number of captions, m - caption embedding size\n",
      "        \"\"\"\n",
      "        # check if the path already exists\n",
      "        emb_path = get_precomputed_embeddings_path(config=self.config, dtype='capt')\n",
      "\n",
      "        if os.path.exists(emb_path):\n",
      "            print('Caption embeddings are already precomputed')\n",
      "            caption_ids, capts, capt_emb = load_filenames_embs_from_pkl(emb_file_path=emb_path)\n",
      "            assert len(caption_ids) == len(capts) == capt_emb.shape[0]\n",
      "            return caption_ids, capts, capt_emb\n",
      "\n",
      "        else:\n",
      "            print('Computing caption embeddings...')\n",
      "            print('Test')\n",
      "            caption_ids = ds_split.caption_ids\n",
      "            capt_emb = self.encode(\n",
      "                [ds_split.captions[caption_id]['raw'][:self.config.model.max_seq_length] for caption_id in caption_ids],\n",
      "                batch_size=128,\n",
      "                convert_to_tensor=True,\n",
      "                show_progress_bar=True\n",
      "                )\n",
      "\n",
      "            capts = [ds_split.captions[caption_id]['raw'] for caption_id in caption_ids]\n",
      "            print(caption_ids[0])\n",
      "            assert len(caption_ids) == len(capts) == capt_emb.shape[0]\n",
      "            return caption_ids, capts, capt_emb\n",
      "\n"
     ]
    }
   ],
   "source": [
    "import inspect \n",
    "from src.models.encoders.clip import CLIP\n",
    "\n",
    "print(inspect.getsource(CLIP.compute_caption_embeddings))"
   ]
  },
  {
   "cell_type": "code",
   "execution_count": 31,
   "id": "1cbb6499-ef1b-4b10-9517-ac32f6031c01",
   "metadata": {
    "execution": {
     "iopub.execute_input": "2023-08-30T12:40:21.656919Z",
     "iopub.status.busy": "2023-08-30T12:40:21.656550Z",
     "iopub.status.idle": "2023-08-30T12:40:22.688989Z",
     "shell.execute_reply": "2023-08-30T12:40:22.688066Z",
     "shell.execute_reply.started": "2023-08-30T12:40:21.656888Z"
    },
    "tags": []
   },
   "outputs": [
    {
     "name": "stdout",
     "output_type": "stream",
     "text": [
      "Computing caption embeddings...\n",
      "Test\n"
     ]
    },
    {
     "name": "stderr",
     "output_type": "stream",
     "text": [
      "Batches: 100%|██████████| 40/40 [00:00<00:00, 43.94it/s]"
     ]
    },
    {
     "name": "stdout",
     "output_type": "stream",
     "text": [
      "125\n"
     ]
    },
    {
     "name": "stderr",
     "output_type": "stream",
     "text": [
      "\n"
     ]
    }
   ],
   "source": [
    "# load precomputed image embeddings\n",
    "data = model.compute_caption_embeddings(\n",
    "    ds_split=ds_test_split\n",
    ")"
   ]
  },
  {
   "cell_type": "code",
   "execution_count": 33,
   "id": "04613923-91f3-4f76-9518-8f4d5c1bc04c",
   "metadata": {
    "execution": {
     "iopub.execute_input": "2023-08-30T12:40:32.239419Z",
     "iopub.status.busy": "2023-08-30T12:40:32.238949Z",
     "iopub.status.idle": "2023-08-30T12:40:32.293464Z",
     "shell.execute_reply": "2023-08-30T12:40:32.292419Z",
     "shell.execute_reply.started": "2023-08-30T12:40:32.239382Z"
    },
    "tags": []
   },
   "outputs": [
    {
     "data": {
      "text/plain": [
       "3"
      ]
     },
     "execution_count": 33,
     "metadata": {},
     "output_type": "execute_result"
    }
   ],
   "source": [
    "len(data)"
   ]
  },
  {
   "cell_type": "code",
   "execution_count": 4,
   "id": "1fc9ed97-4ca2-4ec4-b225-19060d11460f",
   "metadata": {
    "execution": {
     "iopub.execute_input": "2023-08-30T12:29:46.766345Z",
     "iopub.status.busy": "2023-08-30T12:29:46.765576Z",
     "iopub.status.idle": "2023-08-30T12:29:46.774111Z",
     "shell.execute_reply": "2023-08-30T12:29:46.772527Z",
     "shell.execute_reply.started": "2023-08-30T12:29:46.766282Z"
    },
    "tags": []
   },
   "outputs": [],
   "source": [
    "PROJECT_PATH = \"/notebooks/evaluating-cmr-in-mm/\"\n",
    "sys.path.append(PROJECT_PATH)"
   ]
  },
  {
   "cell_type": "code",
   "execution_count": 14,
   "id": "2c380cbe-6f08-40e4-8f02-edaef9b60bed",
   "metadata": {
    "execution": {
     "iopub.execute_input": "2023-08-30T12:36:17.726508Z",
     "iopub.status.busy": "2023-08-30T12:36:17.725695Z",
     "iopub.status.idle": "2023-08-30T12:36:23.116390Z",
     "shell.execute_reply": "2023-08-30T12:36:23.115671Z",
     "shell.execute_reply.started": "2023-08-30T12:36:17.726454Z"
    },
    "tags": []
   },
   "outputs": [
    {
     "name": "stdout",
     "output_type": "stream",
     "text": [
      "Config path:  ../config/clip/development_f30k_dsp.yaml\n",
      "Loading the annotations, preparing the dataset, the model, image embeddings...\n",
      "Loaded annotations from  /notebooks/evaluating-cmr-in-mm/f30k/annotations/dataset_flickr30k.json\n",
      "Computing caption embeddings...\n"
     ]
    },
    {
     "name": "stderr",
     "output_type": "stream",
     "text": [
      "Batches: 100%|██████████| 40/40 [00:00<00:00, 43.55it/s]\n"
     ]
    }
   ],
   "source": [
    "dataset_type = 'f30k'\n",
    "\n",
    "config_filename = f\"development_{dataset_type}_dsp.yaml\"\n",
    "CONFIG_PATH = os.path.join(\"../config/clip\", config_filename)\n",
    "print(\"Config path: \", CONFIG_PATH)\n",
    "\n",
    "with open(CONFIG_PATH, \"rb\") as f:\n",
    "    config = Munch.fromYAML(f)\n",
    "\n",
    "print(\n",
    "    \"Loading the annotations, preparing the dataset, the model, image embeddings...\"\n",
    ")\n",
    "json_file = load_json_annotations(config=config)\n",
    "\n",
    "ds_test_split = Dataset(config=config, split=\"test\", json_file=json_file)\n",
    "\n",
    "# load the model\n",
    "model = CLIP(config=config)\n",
    "# load precomputed image embeddings\n",
    "data = model.compute_caption_embeddings(\n",
    "    ds_split=ds_test_split\n",
    ")\n",
    "\n",
    "rel_estimator = RelevanceEstimator(config=config, dataset=ds_test_split)\n",
    "retriever = Retriever(config=config, model=model)\n",
    "dcg = DCG(config=config, rel_estimator=rel_estimator)\n",
    "\n",
    "i2t_queries = []\n",
    "i2t_targets = []\n",
    "i2t_retrieved_documents = []\n",
    "i2t_scores = []\n",
    "i2t_recalls_at_1 = []\n",
    "i2t_recalls_at_5 = []\n",
    "i2t_recalls_at_10 = []\n",
    "i2t_dcgs = []"
   ]
  },
  {
   "cell_type": "code",
   "execution_count": 36,
   "id": "651193c2-4325-4ff3-b02a-af17158d8627",
   "metadata": {
    "execution": {
     "iopub.execute_input": "2023-08-30T12:58:00.537134Z",
     "iopub.status.busy": "2023-08-30T12:58:00.536494Z",
     "iopub.status.idle": "2023-08-30T12:58:00.619614Z",
     "shell.execute_reply": "2023-08-30T12:58:00.618355Z",
     "shell.execute_reply.started": "2023-08-30T12:58:00.537084Z"
    },
    "tags": []
   },
   "outputs": [
    {
     "name": "stdout",
     "output_type": "stream",
     "text": [
      "Saved files to  /notebooks/evaluating-cmr-in-mm/f30k/f30k-capt-embeddings.pkl\n"
     ]
    }
   ],
   "source": [
    "from src.utils.dataset_preprocessing import get_emb_file_path, dump_filenames_embs_to_pkl, load_filenames_embs_from_pkl\n",
    "\n",
    "emb_path = get_emb_file_path(config, 'capt')\n",
    "\n",
    "dump_filenames_embs_to_pkl(emb_path, data)"
   ]
  },
  {
   "cell_type": "code",
   "execution_count": 37,
   "id": "89c87350-168b-43ec-8863-8745067fc838",
   "metadata": {
    "execution": {
     "iopub.execute_input": "2023-08-30T12:58:50.210043Z",
     "iopub.status.busy": "2023-08-30T12:58:50.209462Z",
     "iopub.status.idle": "2023-08-30T12:58:50.287435Z",
     "shell.execute_reply": "2023-08-30T12:58:50.286202Z",
     "shell.execute_reply.started": "2023-08-30T12:58:50.210011Z"
    },
    "tags": []
   },
   "outputs": [
    {
     "name": "stdout",
     "output_type": "stream",
     "text": [
      "Loaded precomputed filenames and embeddings from  /notebooks/evaluating-cmr-in-mm/f30k/f30k-capt-embeddings.pkl\n"
     ]
    }
   ],
   "source": [
    "test = load_filenames_embs_from_pkl(emb_path)\n",
    "\n"
   ]
  },
  {
   "cell_type": "code",
   "execution_count": 39,
   "id": "c83a4c39-2263-482d-921c-011a62fbc566",
   "metadata": {
    "execution": {
     "iopub.execute_input": "2023-08-30T13:31:19.815779Z",
     "iopub.status.busy": "2023-08-30T13:31:19.815179Z",
     "iopub.status.idle": "2023-08-30T13:31:20.179324Z",
     "shell.execute_reply": "2023-08-30T13:31:20.178364Z",
     "shell.execute_reply.started": "2023-08-30T13:31:19.815727Z"
    },
    "tags": []
   },
   "outputs": [
    {
     "data": {
      "text/plain": [
       "'cuda'"
      ]
     },
     "execution_count": 39,
     "metadata": {},
     "output_type": "execute_result"
    }
   ],
   "source": [
    "import torch\n",
    "\n",
    "def get_device():\n",
    "    \"\"\"\n",
    "\n",
    "    :return:\n",
    "    \"\"\"\n",
    "    return 'cuda' if torch.cuda.is_available() else 'cpu' if torch.backends.mps.is_built() else 'cpu'\n",
    "\n",
    "get_device()"
   ]
  },
  {
   "cell_type": "code",
   "execution_count": 62,
   "id": "c4162a16-463b-4e23-9da6-1b0eb06c9334",
   "metadata": {
    "execution": {
     "iopub.execute_input": "2023-08-30T13:52:03.525811Z",
     "iopub.status.busy": "2023-08-30T13:52:03.525129Z",
     "iopub.status.idle": "2023-08-30T13:52:03.584084Z",
     "shell.execute_reply": "2023-08-30T13:52:03.582701Z",
     "shell.execute_reply.started": "2023-08-30T13:52:03.525759Z"
    },
    "tags": []
   },
   "outputs": [],
   "source": [
    "def define_machine_type(device) -> str:\n",
    "    if device == 'cuda':\n",
    "        return 'dsp'\n",
    "    elif device == 'cpu':\n",
    "        return 'local'\n",
    "    else:\n",
    "        raise NotImplementedError"
   ]
  },
  {
   "cell_type": "code",
   "execution_count": 54,
   "id": "ee02881c-8584-4ac1-b17f-e01f5729199e",
   "metadata": {
    "execution": {
     "iopub.execute_input": "2023-08-30T13:44:45.954826Z",
     "iopub.status.busy": "2023-08-30T13:44:45.954177Z",
     "iopub.status.idle": "2023-08-30T13:44:46.012295Z",
     "shell.execute_reply": "2023-08-30T13:44:46.010933Z",
     "shell.execute_reply.started": "2023-08-30T13:44:45.954772Z"
    },
    "tags": []
   },
   "outputs": [],
   "source": [
    "\n",
    "\n"
   ]
  },
  {
   "cell_type": "code",
   "execution_count": 61,
   "id": "e2f80bef-2bb6-4085-b8dc-37f9924ffac6",
   "metadata": {
    "execution": {
     "iopub.execute_input": "2023-08-30T13:50:38.397146Z",
     "iopub.status.busy": "2023-08-30T13:50:38.396502Z",
     "iopub.status.idle": "2023-08-30T13:50:38.457380Z",
     "shell.execute_reply": "2023-08-30T13:50:38.456193Z",
     "shell.execute_reply.started": "2023-08-30T13:50:38.397094Z"
    },
    "tags": []
   },
   "outputs": [
    {
     "data": {
      "text/plain": [
       "Munch({'root': '/notebooks/evaluating-cmr-in-mm/f30k/', 'img_folder': 'flickr30k-images', 'img_emb_filename': 'f30k-img-embeddings.pkl', 'capt_emb_filename': 'f30k-capt-embeddings.pkl', 'annotation_file': 'annotations/dataset_flickr30k.json'})"
      ]
     },
     "execution_count": 61,
     "metadata": {},
     "output_type": "execute_result"
    }
   ],
   "source": [
    "config.dataset"
   ]
  },
  {
   "cell_type": "code",
   "execution_count": 65,
   "id": "71dac583-0f53-46ef-b45a-82283269199c",
   "metadata": {
    "execution": {
     "iopub.execute_input": "2023-08-30T13:54:01.864053Z",
     "iopub.status.busy": "2023-08-30T13:54:01.863233Z",
     "iopub.status.idle": "2023-08-30T13:54:01.924762Z",
     "shell.execute_reply": "2023-08-30T13:54:01.923376Z",
     "shell.execute_reply.started": "2023-08-30T13:54:01.863998Z"
    },
    "tags": []
   },
   "outputs": [
    {
     "data": {
      "text/plain": [
       "'./config/clip/development_f30k_dsp.yaml'"
      ]
     },
     "execution_count": 65,
     "metadata": {},
     "output_type": "execute_result"
    }
   ],
   "source": [
    "from src.utils.utils import get_device, get_machine_type\n",
    "import os\n",
    "\n",
    "dataset='f30k'\n",
    "model='clip'\n",
    "\n",
    "def get_config_path(dataset, model):\n",
    "    machine_type = get_machine_type()\n",
    "    config_filename = f\"development_{dataset}_{machine_type}.yaml\"\n",
    "    path = os.path.join(f\"./config/{model}\", config_filename)\n",
    "    return path\n",
    "\n",
    "get_config_path(dataset, model)"
   ]
  },
  {
   "cell_type": "code",
   "execution_count": 68,
   "id": "0f7645f0-b5d4-4f86-9181-62aa0da10956",
   "metadata": {
    "execution": {
     "iopub.execute_input": "2023-08-30T13:54:39.565685Z",
     "iopub.status.busy": "2023-08-30T13:54:39.565001Z",
     "iopub.status.idle": "2023-08-30T13:54:39.625915Z",
     "shell.execute_reply": "2023-08-30T13:54:39.624737Z",
     "shell.execute_reply.started": "2023-08-30T13:54:39.565595Z"
    },
    "tags": []
   },
   "outputs": [
    {
     "data": {
      "text/plain": [
       "False"
      ]
     },
     "execution_count": 68,
     "metadata": {},
     "output_type": "execute_result"
    }
   ],
   "source": [
    "os.path.exists(\"./config/clip/development_f30k_dsp.yaml\")"
   ]
  },
  {
   "cell_type": "code",
   "execution_count": 70,
   "id": "8f9dfdcc-8c87-45c8-ac7c-963cf5ee3795",
   "metadata": {
    "execution": {
     "iopub.execute_input": "2023-08-30T13:55:01.840410Z",
     "iopub.status.busy": "2023-08-30T13:55:01.839705Z",
     "iopub.status.idle": "2023-08-30T13:55:01.904197Z",
     "shell.execute_reply": "2023-08-30T13:55:01.902904Z",
     "shell.execute_reply.started": "2023-08-30T13:55:01.840353Z"
    },
    "tags": []
   },
   "outputs": [],
   "source": [
    "PROJECT_PATH = \"../\"\n",
    "sys.path.append(PROJECT_PATH)"
   ]
  },
  {
   "cell_type": "code",
   "execution_count": 71,
   "id": "3e1d359c-87ae-4d59-8e99-304cb0810c57",
   "metadata": {
    "execution": {
     "iopub.execute_input": "2023-08-30T13:55:03.268335Z",
     "iopub.status.busy": "2023-08-30T13:55:03.267649Z",
     "iopub.status.idle": "2023-08-30T13:55:03.947713Z",
     "shell.execute_reply": "2023-08-30T13:55:03.945734Z",
     "shell.execute_reply.started": "2023-08-30T13:55:03.268283Z"
    },
    "tags": []
   },
   "outputs": [
    {
     "name": "stdout",
     "output_type": "stream",
     "text": [
      "huggingface/tokenizers: The current process just got forked, after parallelism has already been used. Disabling parallelism to avoid deadlocks...\n",
      "To disable this warning, you can either:\n",
      "\t- Avoid using `tokenizers` before the fork if possible\n",
      "\t- Explicitly set the environment variable TOKENIZERS_PARALLELISM=(true | false)\n",
      "/notebooks/evaluating-cmr-in-mm/notebooks\n"
     ]
    }
   ],
   "source": [
    "! pwd"
   ]
  },
  {
   "cell_type": "code",
   "execution_count": 18,
   "id": "907d2134-1bdd-432f-a98d-1c657b6cd2f7",
   "metadata": {
    "execution": {
     "iopub.execute_input": "2023-08-30T12:37:04.159480Z",
     "iopub.status.busy": "2023-08-30T12:37:04.158701Z",
     "iopub.status.idle": "2023-08-30T12:37:06.542904Z",
     "shell.execute_reply": "2023-08-30T12:37:06.541851Z",
     "shell.execute_reply.started": "2023-08-30T12:37:04.159422Z"
    },
    "tags": []
   },
   "outputs": [
    {
     "name": "stdout",
     "output_type": "stream",
     "text": [
      "Computing caption embeddings...\n"
     ]
    },
    {
     "name": "stderr",
     "output_type": "stream",
     "text": [
      "Batches: 100%|██████████| 40/40 [00:00<00:00, 44.27it/s]\n"
     ]
    }
   ],
   "source": [
    "# load the model\n",
    "model = CLIP(config=config)\n",
    "# load precomputed image embeddings\n",
    "data = model.compute_caption_embeddings(\n",
    "    ds_split=ds_test_split\n",
    ")"
   ]
  },
  {
   "cell_type": "code",
   "execution_count": 19,
   "id": "321c3ea3-7a01-4af0-8236-f63f07eac0b4",
   "metadata": {
    "execution": {
     "iopub.execute_input": "2023-08-30T12:37:15.186517Z",
     "iopub.status.busy": "2023-08-30T12:37:15.185692Z",
     "iopub.status.idle": "2023-08-30T12:37:15.193257Z",
     "shell.execute_reply": "2023-08-30T12:37:15.191531Z",
     "shell.execute_reply.started": "2023-08-30T12:37:15.186461Z"
    },
    "tags": []
   },
   "outputs": [],
   "source": [
    "data"
   ]
  }
 ],
 "metadata": {
  "kernelspec": {
   "display_name": "Python 3 (ipykernel)",
   "language": "python",
   "name": "python3"
  },
  "language_info": {
   "codemirror_mode": {
    "name": "ipython",
    "version": 3
   },
   "file_extension": ".py",
   "mimetype": "text/x-python",
   "name": "python",
   "nbconvert_exporter": "python",
   "pygments_lexer": "ipython3",
   "version": "3.10.12"
  }
 },
 "nbformat": 4,
 "nbformat_minor": 5
}
