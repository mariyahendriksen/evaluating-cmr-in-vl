{
 "cells": [
  {
   "cell_type": "code",
   "execution_count": 4,
   "metadata": {},
   "outputs": [
    {
     "name": "stderr",
     "output_type": "stream",
     "text": [
      "Fontconfig warning: ignoring UTF-8: not a valid region tag\n"
     ]
    }
   ],
   "source": [
    "# from pycocotools.coco import COCO\n",
    "import numpy as np\n",
    "# import skimage.io as io\n",
    "import matplotlib.pyplot as plt\n",
    "import pylab\n",
    "\n",
    "pylab.rcParams['figure.figsize'] = (8.0, 10.0)\n",
    "import pickle\n",
    "from six import BytesIO as IO\n",
    "from PIL import Image\n",
    "import os\n",
    "import json\n",
    "from collections import defaultdict"
   ]
  },
  {
   "cell_type": "code",
   "execution_count": 2,
   "metadata": {},
   "outputs": [],
   "source": [
    "dataDir='/Users/mauritsbleeker/Documents/PhD/Github/Projects/CPC-loss/data/MS-COCO'\n",
    "dataType='train2014'\n",
    "annFile='{}/annotations/instances_{}.json'.format(dataDir,dataType)\n",
    "annFile = '{}/annotations/captions_{}.json'.format(dataDir,dataType)"
   ]
  },
  {
   "cell_type": "code",
   "execution_count": 3,
   "metadata": {},
   "outputs": [
    {
     "name": "stdout",
     "output_type": "stream",
     "text": [
      "loading annotations into memory...\n",
      "Done (t=0.56s)\n",
      "creating index...\n",
      "index created!\n",
      "loading annotations into memory...\n",
      "Done (t=0.57s)\n",
      "creating index...\n",
      "index created!\n"
     ]
    }
   ],
   "source": [
    "coco=COCO(annFile)\n",
    "coco_caps=COCO(annFile)"
   ]
  },
  {
   "cell_type": "code",
   "execution_count": 4,
   "metadata": {},
   "outputs": [],
   "source": [
    "json_file = '{}/dataset_coco.json'.format(dataDir)\n",
    "with open(json_file) as json_file:\n",
    "    data_json = json.load(json_file)"
   ]
  },
  {
   "cell_type": "code",
   "execution_count": 5,
   "metadata": {},
   "outputs": [
    {
     "name": "stdout",
     "output_type": "stream",
     "text": [
      "0\n",
      "1000\n",
      "2000\n",
      "3000\n",
      "4000\n",
      "5000\n",
      "6000\n",
      "7000\n",
      "8000\n",
      "9000\n",
      "10000\n",
      "11000\n",
      "12000\n",
      "13000\n",
      "14000\n",
      "15000\n",
      "16000\n",
      "17000\n",
      "18000\n",
      "19000\n",
      "20000\n",
      "21000\n",
      "22000\n",
      "23000\n",
      "24000\n",
      "25000\n",
      "26000\n",
      "27000\n",
      "28000\n",
      "29000\n",
      "30000\n",
      "31000\n",
      "32000\n",
      "33000\n",
      "34000\n",
      "35000\n",
      "36000\n",
      "37000\n",
      "38000\n",
      "39000\n",
      "40000\n",
      "41000\n",
      "42000\n",
      "43000\n",
      "44000\n",
      "45000\n",
      "46000\n",
      "47000\n",
      "48000\n",
      "49000\n",
      "50000\n",
      "51000\n",
      "52000\n",
      "53000\n",
      "54000\n",
      "55000\n",
      "56000\n",
      "57000\n",
      "58000\n",
      "59000\n",
      "60000\n",
      "61000\n",
      "62000\n",
      "63000\n",
      "64000\n",
      "65000\n",
      "66000\n",
      "67000\n",
      "68000\n",
      "69000\n",
      "70000\n",
      "71000\n",
      "72000\n",
      "73000\n",
      "74000\n",
      "75000\n",
      "76000\n",
      "77000\n",
      "78000\n",
      "79000\n",
      "80000\n",
      "81000\n",
      "82000\n",
      "83000\n",
      "84000\n",
      "85000\n",
      "86000\n",
      "87000\n",
      "88000\n",
      "89000\n",
      "90000\n",
      "91000\n",
      "92000\n",
      "93000\n",
      "94000\n",
      "95000\n",
      "96000\n",
      "97000\n",
      "98000\n",
      "99000\n",
      "100000\n",
      "101000\n",
      "102000\n",
      "103000\n",
      "104000\n",
      "105000\n",
      "106000\n",
      "107000\n",
      "108000\n",
      "109000\n",
      "110000\n",
      "111000\n",
      "112000\n",
      "113000\n",
      "114000\n",
      "115000\n",
      "116000\n",
      "117000\n",
      "118000\n",
      "119000\n",
      "120000\n",
      "121000\n",
      "122000\n",
      "123000\n"
     ]
    }
   ],
   "source": [
    "train_dict = defaultdict(dict)\n",
    "val_dict = defaultdict(dict)\n",
    "test_dict = defaultdict(dict)\n",
    "\n",
    "\n",
    "for i, image_data in enumerate(data_json['images']):\n",
    "    try:\n",
    "        \n",
    "        if image_data['split'] == 'train' or image_data['split'] ==  'restval':\n",
    "            out = train_dict\n",
    "        elif image_data['split'] == 'val':\n",
    "            out = val_dict\n",
    "        elif image_data['split'] == 'test':\n",
    "            out = test_dict\n",
    "        else:\n",
    "            break\n",
    "            print('error no split') \n",
    "        \n",
    "        img = open('{}/{}/{}'.format(dataDir, image_data['filepath'], image_data['filename']), 'rb').read()\n",
    "        img_id = image_data['imgid']\n",
    "        coco_id = image_data['cocoid']\n",
    "        out['images'][img_id] = {'image': img,  'filename' : image_data['filename'], 'caption_ids': image_data['sentids'], 'cocoid': image_data['cocoid']}\n",
    "        \n",
    "        for caption in image_data['sentences']:\n",
    "            out['captions'][caption['sentid']] = {\n",
    "                'caption': caption['raw'], \n",
    "                'imgid': img_id, \n",
    "                'tokens': caption['tokens'],\n",
    "                'filename': image_data['filename'],\n",
    "                'cocoid': coco_id\n",
    "            }\n",
    "        \n",
    "        if i % 1000 == 0:\n",
    "            print(i)\n",
    "        \n",
    "    except:\n",
    "        print('error')\n",
    "        continue"
   ]
  },
  {
   "cell_type": "code",
   "execution_count": 6,
   "metadata": {},
   "outputs": [
    {
     "name": "stdout",
     "output_type": "stream",
     "text": [
      "113287\n",
      "5000\n",
      "5000\n"
     ]
    }
   ],
   "source": [
    "print(len(train_dict['images']))\n",
    "print(len(val_dict['images']))\n",
    "print(len(test_dict['images']))"
   ]
  },
  {
   "cell_type": "code",
   "execution_count": 7,
   "metadata": {},
   "outputs": [],
   "source": [
    "root = '/Users/mauritsbleeker/Documents/PhD/Github/Projects/Multi-modal-contrastive/datasets'\n",
    "f8k = 'flickr8k'\n",
    "f30k = 'flickr30k'\n",
    "mscoco = 'ms-coco'\n",
    "\n",
    "pickle.dump( train_dict, open(os.path.join(root, mscoco, 'train_set.p'), \"wb\" ))\n",
    "pickle.dump( val_dict,   open(os.path.join(root, mscoco, 'val_set.p'), \"wb\" ))\n",
    "pickle.dump( test_dict,  open(os.path.join(root, mscoco, 'test_set.p'), \"wb\" ))"
   ]
  },
  {
   "cell_type": "code",
   "execution_count": null,
   "metadata": {},
   "outputs": [],
   "source": []
  },
  {
   "cell_type": "code",
   "execution_count": null,
   "metadata": {},
   "outputs": [],
   "source": []
  }
 ],
 "metadata": {
  "kernelspec": {
   "display_name": "Python 3",
   "language": "python",
   "name": "python3"
  },
  "language_info": {
   "codemirror_mode": {
    "name": "ipython",
    "version": 3
   },
   "file_extension": ".py",
   "mimetype": "text/x-python",
   "name": "python",
   "nbconvert_exporter": "python",
   "pygments_lexer": "ipython3",
   "version": "3.9.5"
  }
 },
 "nbformat": 4,
 "nbformat_minor": 2
}
