{
 "cells": [
  {
   "cell_type": "code",
   "execution_count": 21,
   "metadata": {
    "execution": {
     "iopub.execute_input": "2023-09-03T15:03:06.931059Z",
     "iopub.status.busy": "2023-09-03T15:03:06.930470Z",
     "iopub.status.idle": "2023-09-03T15:03:06.996811Z",
     "shell.execute_reply": "2023-09-03T15:03:06.995669Z",
     "shell.execute_reply.started": "2023-09-03T15:03:06.931010Z"
    },
    "tags": []
   },
   "outputs": [
    {
     "name": "stdout",
     "output_type": "stream",
     "text": [
      "The autoreload extension is already loaded. To reload it, use:\n",
      "  %reload_ext autoreload\n",
      "/notebooks/evaluating-cmr-in-mm/\n",
      "The autoreload extension is already loaded. To reload it, use:\n",
      "  %reload_ext autoreload\n"
     ]
    }
   ],
   "source": [
    "# results printer\n",
    "%load_ext autoreload\n",
    "%autoreload 2\n",
    "\n",
    "import torch\n",
    "\n",
    "if torch.cuda.is_available():\n",
    "    PROJECT_PATH = \"/notebooks/evaluating-cmr-in-mm/\"\n",
    "else:\n",
    "    PROJECT_PATH = \"/Users/mhendriksen/Desktop/repositories/evaluating-cmr-in-mm/\"\n",
    "\n",
    "print(PROJECT_PATH)\n",
    "import sys\n",
    "sys.path.append(PROJECT_PATH)\n",
    "\n",
    "import os\n",
    "%load_ext autoreload\n",
    "%autoreload 2\n",
    "\n",
    "if torch.cuda.is_available():\n",
    "    os.chdir('/notebooks/evaluating-cmr-in-mm/')\n",
    "else:\n",
    "    if os.getcwd() != '/Users/mhendriksen/Desktop/repositories/evaluating-cmr-in-mm':\n",
    "        os.chdir('/Users/mhendriksen/Desktop/repositories/evaluating-cmr-in-mm')"
   ]
  },
  {
   "cell_type": "code",
   "execution_count": 28,
   "metadata": {
    "execution": {
     "iopub.execute_input": "2023-09-03T15:08:40.516564Z",
     "iopub.status.busy": "2023-09-03T15:08:40.515964Z",
     "iopub.status.idle": "2023-09-03T15:08:42.036872Z",
     "shell.execute_reply": "2023-09-03T15:08:42.036114Z",
     "shell.execute_reply.started": "2023-09-03T15:08:40.516516Z"
    },
    "tags": []
   },
   "outputs": [
    {
     "name": "stdout",
     "output_type": "stream",
     "text": [
      "Config path:  ./config/clip/f30k/development_dsp.yaml\n",
      "Loaded config path\n",
      "Loaded annotations from  /notebooks/evaluating-cmr-in-mm/datasets/f30k/annotations/dataset_flickr30k.json\n",
      "Loaded results dataframe from  /notebooks/evaluating-cmr-in-mm/results/clip/f30k/i2t-results.pkl\n",
      "Df size:  (1000, 8)\n",
      "Printing metrics...\n",
      "\n",
      "        File: /notebooks/evaluating-cmr-in-mm/results/clip/f30k/i2t-results.pkl\n",
      "        Task: i2t\n",
      "        R@1\tR@5\tR@10\tDCG\n",
      "        0.79\t0.58\t0.73\t2.85\n",
      "        \n"
     ]
    }
   ],
   "source": [
    "from src.utils.utils import get_config, get_model\n",
    "from src.data.dataset import Dataset\n",
    "from src.utils.dataset_preprocessing import load_json_annotations\n",
    "import pickle\n",
    "\n",
    "model = 'clip'\n",
    "dataset='f30k'\n",
    "\n",
    "config = get_config(dataset=dataset, model=model)\n",
    "\n",
    "\n",
    "json_file = load_json_annotations(config=config)\n",
    "\n",
    "ds_test_split = Dataset(config=config, split=\"test\", json_file=json_file)\n",
    "\n",
    "\n",
    "def get_mean(dataf, col: str, round_factor=2):\n",
    "    return round(dataf[col].describe().loc['mean'], round_factor)\n",
    "\n",
    "results_root = os.path.join(\n",
    "    config.results.dir,\n",
    "    model,\n",
    "    dataset\n",
    "    )\n",
    "\n",
    "filenames = os.listdir(results_root)\n",
    "\n",
    "for file in filenames:\n",
    "    if file.endswith('.pkl'):\n",
    "        path = os.path.join(results_root, file)\n",
    "        with open(path, 'rb') as f:\n",
    "            data = pickle.load(f)\n",
    "        if 'i2t' in file:\n",
    "            task='i2t'\n",
    "        elif 't2i' in file:\n",
    "            task='t2i'\n",
    "        else:\n",
    "            print('Uknown task type')\n",
    "        print('Loaded results dataframe from ', path)\n",
    "        print('Df size: ', data.shape)\n",
    "        print('Printing metrics...')\n",
    "        print(\n",
    "        f\"\"\"\n",
    "        File: {path}\n",
    "        Task: {task}\n",
    "        R@1\\tR@5\\tR@10\\tDCG\n",
    "        {get_mean(data, f'{task}_recalls_at_1')}\\t{get_mean(data, f'{task}_recalls_at_5')}\\t{get_mean(data, f'{task}_recalls_at_10')}\\t{get_mean(data, f'{task}_dcgs')}\n",
    "        \"\"\"\n",
    "        )\n"
   ]
  }
 ],
 "metadata": {
  "kernelspec": {
   "display_name": "Python 3 (ipykernel)",
   "language": "python",
   "name": "python3"
  },
  "language_info": {
   "codemirror_mode": {
    "name": "ipython",
    "version": 3
   },
   "file_extension": ".py",
   "mimetype": "text/x-python",
   "name": "python",
   "nbconvert_exporter": "python",
   "pygments_lexer": "ipython3",
   "version": "3.9.5"
  }
 },
 "nbformat": 4,
 "nbformat_minor": 4
}
