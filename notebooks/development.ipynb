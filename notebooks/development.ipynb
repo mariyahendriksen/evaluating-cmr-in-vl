{
 "cells": [
  {
   "cell_type": "code",
   "execution_count": 4,
   "metadata": {},
   "outputs": [],
   "source": [
    "import os, fnmatch\n",
    "\n",
    "def findReplace(directory, find, replace, filePattern):\n",
    "    for path, dirs, files in os.walk(os.path.abspath(directory)):\n",
    "        for filename in fnmatch.filter(files, filePattern):\n",
    "            filepath = os.path.join(path, filename)\n",
    "            # print(filepath)\n",
    "            with open(filepath) as f:\n",
    "                s = f.read()\n",
    "            # print(s)\n",
    "            s = s.replace(find, replace)\n",
    "        # print('NEW:\\n', s)\n",
    "            with open(filepath, \"w\") as f:\n",
    "                f.write(s)\n",
    "\n",
    "\n",
    "\n",
    "findReplace(\n",
    "    \"/Users/mhendriksen/Desktop/repositories/evaluating-cmr-in-vl/config/\",\n",
    "    \"/Users/mhendriksen/Desktop/repositories./results\",\n",
    "    \"/Users/mhendriksen/Desktop/repositories/results\",\n",
    "    \"*.yaml\"\n",
    "    )"
   ]
  },
  {
   "cell_type": "code",
   "execution_count": 9,
   "metadata": {},
   "outputs": [],
   "source": [
    "%load_ext autoreload\n",
    "%autoreload 2\n"
   ]
  },
  {
   "cell_type": "code",
   "execution_count": 2,
   "metadata": {},
   "outputs": [
    {
     "data": {
      "text/plain": [
       "'/Users/mhendriksen/Desktop/repositories/evaluating-cmr-in-vl/notebooks'"
      ]
     },
     "execution_count": 2,
     "metadata": {},
     "output_type": "execute_result"
    }
   ],
   "source": [
    "import os\n",
    "\n",
    "def define_machine\n",
    "\n",
    "os.getcwd()"
   ]
  },
  {
   "cell_type": "code",
   "execution_count": 7,
   "metadata": {},
   "outputs": [],
   "source": [
    "path = '/Users/mhendriksen/Desktop/repositories/evaluating-cmr-in-vl'\n",
    "\n",
    "import sys\n",
    "if path not in sys.path:\n",
    "    sys.path.append(path)"
   ]
  },
  {
   "cell_type": "code",
   "execution_count": 13,
   "metadata": {},
   "outputs": [
    {
     "data": {
      "text/plain": [
       "['/Users/mhendriksen/Desktop/repositories/evaluating-cmr-in-vl/notebooks',\n",
       " '/Users/mhendriksen/opt/anaconda3/lib/python39.zip',\n",
       " '/Users/mhendriksen/opt/anaconda3/lib/python3.9',\n",
       " '/Users/mhendriksen/opt/anaconda3/lib/python3.9/lib-dynload',\n",
       " '',\n",
       " '/Users/mhendriksen/Desktop/repositories/evaluating-cmr-in-vl/venv/lib/python3.9/site-packages',\n",
       " '/Users/mhendriksen/Desktop/repositories/evaluating-cmr-in-vl']"
      ]
     },
     "execution_count": 13,
     "metadata": {},
     "output_type": "execute_result"
    }
   ],
   "source": [
    "sys.path"
   ]
  },
  {
   "cell_type": "code",
   "execution_count": 20,
   "metadata": {},
   "outputs": [
    {
     "data": {
      "text/plain": [
       "['none',\n",
       " 'char_swap',\n",
       " 'missing_char',\n",
       " 'extra_char',\n",
       " 'nearby_char',\n",
       " 'probability_based_letter_change',\n",
       " 'synonym_noun',\n",
       " 'synonym_adj',\n",
       " 'distraction_true',\n",
       " 'distraction_false',\n",
       " 'shuffle_nouns_and_adj',\n",
       " 'shuffle_all_words',\n",
       " 'shuffle_allbut_nouns_and_adj',\n",
       " 'shuffle_within_trigrams',\n",
       " 'shuffle_trigrams']"
      ]
     },
     "execution_count": 20,
     "metadata": {},
     "output_type": "execute_result"
    }
   ],
   "source": [
    "from src.constants.constants import DATASETS, MODELS, PERTURBATIONS\n",
    "\n",
    "PERTURBATIONS"
   ]
  }
 ],
 "metadata": {
  "kernelspec": {
   "display_name": "venv",
   "language": "python",
   "name": "python3"
  },
  "language_info": {
   "codemirror_mode": {
    "name": "ipython",
    "version": 3
   },
   "file_extension": ".py",
   "mimetype": "text/x-python",
   "name": "python",
   "nbconvert_exporter": "python",
   "pygments_lexer": "ipython3",
   "version": "3.9.12"
  }
 },
 "nbformat": 4,
 "nbformat_minor": 2
}
