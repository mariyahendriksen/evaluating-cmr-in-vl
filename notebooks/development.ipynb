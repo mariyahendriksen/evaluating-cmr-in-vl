{
 "cells": [
  {
   "cell_type": "code",
   "execution_count": 16,
   "metadata": {},
   "outputs": [],
   "source": [
    "import os, fnmatch\n",
    "\n",
    "def findReplace(directory, find, replace, filePattern):\n",
    "    for path, dirs, files in os.walk(os.path.abspath(directory)):\n",
    "        for filename in fnmatch.filter(files, filePattern):\n",
    "            filepath = os.path.join(path, filename)\n",
    "            # print(filepath)\n",
    "            with open(filepath) as f:\n",
    "                s = f.read()\n",
    "            # print(s)\n",
    "            s = s.replace(find, replace)\n",
    "        # print('NEW:\\n', s)\n",
    "            with open(filepath, \"w\") as f:\n",
    "                f.write(s)\n",
    "\n",
    "\n",
    "\n",
    "findReplace(\n",
    "    \"/Users/mhendriksen/Desktop/repositories/evaluating-cmr-in-vl/config/\",\n",
    "    \"/notebooks/evaluating-cmr-in-mm\",\n",
    "    \"/evaluating-cmr-in-mm\",\n",
    "    \"*.yaml\"\n",
    "    )"
   ]
  },
  {
   "cell_type": "code",
   "execution_count": 17,
   "metadata": {},
   "outputs": [
    {
     "name": "stdout",
     "output_type": "stream",
     "text": [
      "/Users/mhendriksen/Desktop/repositories/evaluating-cmr-in-vl/notebooks\n"
     ]
    }
   ],
   "source": [
    "! pwd"
   ]
  }
 ],
 "metadata": {
  "kernelspec": {
   "display_name": "venv",
   "language": "python",
   "name": "python3"
  },
  "language_info": {
   "codemirror_mode": {
    "name": "ipython",
    "version": 3
   },
   "file_extension": ".py",
   "mimetype": "text/x-python",
   "name": "python",
   "nbconvert_exporter": "python",
   "pygments_lexer": "ipython3",
   "version": "3.9.12"
  }
 },
 "nbformat": 4,
 "nbformat_minor": 2
}
