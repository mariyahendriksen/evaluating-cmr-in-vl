{
 "cells": [
  {
   "cell_type": "code",
   "execution_count": 4,
   "metadata": {},
   "outputs": [],
   "source": [
    "import os, fnmatch\n",
    "\n",
    "def findReplace(directory, find, replace, filePattern):\n",
    "    for path, dirs, files in os.walk(os.path.abspath(directory)):\n",
    "        for filename in fnmatch.filter(files, filePattern):\n",
    "            filepath = os.path.join(path, filename)\n",
    "            # print(filepath)\n",
    "            with open(filepath) as f:\n",
    "                s = f.read()\n",
    "            # print(s)\n",
    "            s = s.replace(find, replace)\n",
    "        # print('NEW:\\n', s)\n",
    "            with open(filepath, \"w\") as f:\n",
    "                f.write(s)\n",
    "\n",
    "\n",
    "\n",
    "findReplace(\n",
    "    \"/Users/mhendriksen/Desktop/repositories/evaluating-cmr-in-vl/config/\",\n",
    "    \"/Users/mhendriksen/Desktop/repositories./results\",\n",
    "    \"/Users/mhendriksen/Desktop/repositories/results\",\n",
    "    \"*.yaml\"\n",
    "    )"
   ]
  },
  {
   "cell_type": "code",
   "execution_count": 9,
   "metadata": {},
   "outputs": [],
   "source": [
    "%load_ext autoreload\n",
    "%autoreload 2\n"
   ]
  },
  {
   "cell_type": "code",
   "execution_count": 2,
   "metadata": {},
   "outputs": [
    {
     "data": {
      "text/plain": [
       "'/Users/mhendriksen/Desktop/repositories/evaluating-cmr-in-vl/notebooks'"
      ]
     },
     "execution_count": 2,
     "metadata": {},
     "output_type": "execute_result"
    }
   ],
   "source": [
    "import os\n",
    "\n",
    "def define_machine\n",
    "\n",
    "os.getcwd()"
   ]
  },
  {
   "cell_type": "code",
   "execution_count": 7,
   "metadata": {},
   "outputs": [],
   "source": [
    "path = '/Users/mhendriksen/Desktop/repositories/evaluating-cmr-in-vl'\n",
    "\n",
    "import sys\n",
    "if path not in sys.path:\n",
    "    sys.path.append(path)"
   ]
  },
  {
   "cell_type": "code",
   "execution_count": 13,
   "metadata": {},
   "outputs": [
    {
     "data": {
      "text/plain": [
       "['/Users/mhendriksen/Desktop/repositories/evaluating-cmr-in-vl/notebooks',\n",
       " '/Users/mhendriksen/opt/anaconda3/lib/python39.zip',\n",
       " '/Users/mhendriksen/opt/anaconda3/lib/python3.9',\n",
       " '/Users/mhendriksen/opt/anaconda3/lib/python3.9/lib-dynload',\n",
       " '',\n",
       " '/Users/mhendriksen/Desktop/repositories/evaluating-cmr-in-vl/venv/lib/python3.9/site-packages',\n",
       " '/Users/mhendriksen/Desktop/repositories/evaluating-cmr-in-vl']"
      ]
     },
     "execution_count": 13,
     "metadata": {},
     "output_type": "execute_result"
    }
   ],
   "source": [
    "sys.path"
   ]
  },
  {
   "cell_type": "code",
   "execution_count": 20,
   "metadata": {},
   "outputs": [
    {
     "data": {
      "text/plain": [
       "['none',\n",
       " 'char_swap',\n",
       " 'missing_char',\n",
       " 'extra_char',\n",
       " 'nearby_char',\n",
       " 'probability_based_letter_change',\n",
       " 'synonym_noun',\n",
       " 'synonym_adj',\n",
       " 'distraction_true',\n",
       " 'distraction_false',\n",
       " 'shuffle_nouns_and_adj',\n",
       " 'shuffle_all_words',\n",
       " 'shuffle_allbut_nouns_and_adj',\n",
       " 'shuffle_within_trigrams',\n",
       " 'shuffle_trigrams']"
      ]
     },
     "execution_count": 20,
     "metadata": {},
     "output_type": "execute_result"
    }
   ],
   "source": [
    "from src.constants.constants import DATASETS, MODELS, PERTURBATIONS\n",
    "\n",
    "PERTURBATIONS"
   ]
  },
  {
   "cell_type": "code",
   "execution_count": 21,
   "metadata": {},
   "outputs": [
    {
     "ename": "FileNotFoundError",
     "evalue": "[Errno 2] No such file or directory: 'datasets/dataset_coco.json'",
     "output_type": "error",
     "traceback": [
      "\u001b[0;31m---------------------------------------------------------------------------\u001b[0m",
      "\u001b[0;31mFileNotFoundError\u001b[0m                         Traceback (most recent call last)",
      "\u001b[1;32m/Users/mhendriksen/Desktop/repositories/evaluating-cmr-in-vl/notebooks/development.ipynb Cell 7\u001b[0m line \u001b[0;36m5\n\u001b[1;32m      <a href='vscode-notebook-cell:/Users/mhendriksen/Desktop/repositories/evaluating-cmr-in-vl/notebooks/development.ipynb#X10sZmlsZQ%3D%3D?line=0'>1</a>\u001b[0m \u001b[39mimport\u001b[39;00m \u001b[39mjson\u001b[39;00m\n\u001b[1;32m      <a href='vscode-notebook-cell:/Users/mhendriksen/Desktop/repositories/evaluating-cmr-in-vl/notebooks/development.ipynb#X10sZmlsZQ%3D%3D?line=2'>3</a>\u001b[0m path \u001b[39m=\u001b[39m \u001b[39m'\u001b[39m\u001b[39mdatasets/dataset_coco.json\u001b[39m\u001b[39m'\u001b[39m\n\u001b[0;32m----> <a href='vscode-notebook-cell:/Users/mhendriksen/Desktop/repositories/evaluating-cmr-in-vl/notebooks/development.ipynb#X10sZmlsZQ%3D%3D?line=4'>5</a>\u001b[0m json_data \u001b[39m=\u001b[39m json\u001b[39m.\u001b[39mload(\u001b[39mopen\u001b[39;49m(path, \u001b[39m'\u001b[39;49m\u001b[39mrb\u001b[39;49m\u001b[39m'\u001b[39;49m))\n",
      "File \u001b[0;32m~/Desktop/repositories/evaluating-cmr-in-vl/venv/lib/python3.9/site-packages/IPython/core/interactiveshell.py:286\u001b[0m, in \u001b[0;36m_modified_open\u001b[0;34m(file, *args, **kwargs)\u001b[0m\n\u001b[1;32m    279\u001b[0m \u001b[39mif\u001b[39;00m file \u001b[39min\u001b[39;00m {\u001b[39m0\u001b[39m, \u001b[39m1\u001b[39m, \u001b[39m2\u001b[39m}:\n\u001b[1;32m    280\u001b[0m     \u001b[39mraise\u001b[39;00m \u001b[39mValueError\u001b[39;00m(\n\u001b[1;32m    281\u001b[0m         \u001b[39mf\u001b[39m\u001b[39m\"\u001b[39m\u001b[39mIPython won\u001b[39m\u001b[39m'\u001b[39m\u001b[39mt let you open fd=\u001b[39m\u001b[39m{\u001b[39;00mfile\u001b[39m}\u001b[39;00m\u001b[39m by default \u001b[39m\u001b[39m\"\u001b[39m\n\u001b[1;32m    282\u001b[0m         \u001b[39m\"\u001b[39m\u001b[39mas it is likely to crash IPython. If you know what you are doing, \u001b[39m\u001b[39m\"\u001b[39m\n\u001b[1;32m    283\u001b[0m         \u001b[39m\"\u001b[39m\u001b[39myou can use builtins\u001b[39m\u001b[39m'\u001b[39m\u001b[39m open.\u001b[39m\u001b[39m\"\u001b[39m\n\u001b[1;32m    284\u001b[0m     )\n\u001b[0;32m--> 286\u001b[0m \u001b[39mreturn\u001b[39;00m io_open(file, \u001b[39m*\u001b[39;49margs, \u001b[39m*\u001b[39;49m\u001b[39m*\u001b[39;49mkwargs)\n",
      "\u001b[0;31mFileNotFoundError\u001b[0m: [Errno 2] No such file or directory: 'datasets/dataset_coco.json'"
     ]
    }
   ],
   "source": [
    "import json\n",
    "\n",
    "path = '../datasets/dataset_coco.json'\n",
    "\n",
    "json_data = json.load(open(path, 'rb'))"
   ]
  }
 ],
 "metadata": {
  "kernelspec": {
   "display_name": "venv",
   "language": "python",
   "name": "python3"
  },
  "language_info": {
   "codemirror_mode": {
    "name": "ipython",
    "version": 3
   },
   "file_extension": ".py",
   "mimetype": "text/x-python",
   "name": "python",
   "nbconvert_exporter": "python",
   "pygments_lexer": "ipython3",
   "version": "3.9.12"
  }
 },
 "nbformat": 4,
 "nbformat_minor": 2
}
